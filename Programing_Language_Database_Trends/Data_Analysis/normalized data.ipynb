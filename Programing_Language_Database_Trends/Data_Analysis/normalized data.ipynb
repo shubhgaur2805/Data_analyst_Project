{
 "cells": [
  {
   "cell_type": "markdown",
   "metadata": {},
   "source": [
    "# Language and Database Dataset"
   ]
  },
  {
   "cell_type": "markdown",
   "metadata": {},
   "source": [
    "# Import Libaries"
   ]
  },
  {
   "cell_type": "code",
   "execution_count": 2,
   "metadata": {},
   "outputs": [],
   "source": [
    "import pandas as pd\n",
    "import numpy as np\n",
    "import matplotlib\n",
    "import matplotlib.pyplot as plt\n",
    "import seaborn as sns"
   ]
  },
  {
   "cell_type": "markdown",
   "metadata": {},
   "source": [
    "# Load Dataset"
   ]
  },
  {
   "cell_type": "code",
   "execution_count": 3,
   "metadata": {},
   "outputs": [],
   "source": [
    "df=pd.read_csv(\"m5_survey_data_technologies_normalised.csv\")"
   ]
  },
  {
   "cell_type": "markdown",
   "metadata": {},
   "source": [
    "# Finding Missing values"
   ]
  },
  {
   "cell_type": "code",
   "execution_count": 4,
   "metadata": {},
   "outputs": [
    {
     "data": {
      "text/html": [
       "<div>\n",
       "<style scoped>\n",
       "    .dataframe tbody tr th:only-of-type {\n",
       "        vertical-align: middle;\n",
       "    }\n",
       "\n",
       "    .dataframe tbody tr th {\n",
       "        vertical-align: top;\n",
       "    }\n",
       "\n",
       "    .dataframe thead th {\n",
       "        text-align: right;\n",
       "    }\n",
       "</style>\n",
       "<table border=\"1\" class=\"dataframe\">\n",
       "  <thead>\n",
       "    <tr style=\"text-align: right;\">\n",
       "      <th></th>\n",
       "      <th>Respondent</th>\n",
       "      <th>LanguageWorkedWith</th>\n",
       "      <th>LanguageDesireNextYear</th>\n",
       "      <th>DatabaseWorkedWith</th>\n",
       "      <th>DatabaseDesireNextYear</th>\n",
       "      <th>PlatformWorkedWith</th>\n",
       "      <th>PlatformDesireNextYear</th>\n",
       "      <th>WebFrameWorkedWith</th>\n",
       "      <th>WebFrameDesireNextYear</th>\n",
       "      <th>DevEnviron</th>\n",
       "      <th>OpSys</th>\n",
       "      <th>Containers</th>\n",
       "      <th>BlockchainOrg</th>\n",
       "      <th>BlockchainIs</th>\n",
       "    </tr>\n",
       "  </thead>\n",
       "  <tbody>\n",
       "    <tr>\n",
       "      <td>0</td>\n",
       "      <td>NaN</td>\n",
       "      <td>NaN</td>\n",
       "      <td>NaN</td>\n",
       "      <td>NaN</td>\n",
       "      <td>NaN</td>\n",
       "      <td>NaN</td>\n",
       "      <td>NaN</td>\n",
       "      <td>NaN</td>\n",
       "      <td>NaN</td>\n",
       "      <td>NaN</td>\n",
       "      <td>NaN</td>\n",
       "      <td>NaN</td>\n",
       "      <td>NaN</td>\n",
       "      <td>NaN</td>\n",
       "    </tr>\n",
       "    <tr>\n",
       "      <td>1</td>\n",
       "      <td>4.0</td>\n",
       "      <td>C</td>\n",
       "      <td>C</td>\n",
       "      <td>MySQL</td>\n",
       "      <td>MySQL</td>\n",
       "      <td>Linux</td>\n",
       "      <td>Linux</td>\n",
       "      <td>NaN</td>\n",
       "      <td>NaN</td>\n",
       "      <td>Eclipse</td>\n",
       "      <td>NaN</td>\n",
       "      <td>NaN</td>\n",
       "      <td>NaN</td>\n",
       "      <td>NaN</td>\n",
       "    </tr>\n",
       "    <tr>\n",
       "      <td>2</td>\n",
       "      <td>4.0</td>\n",
       "      <td>C++</td>\n",
       "      <td>C#</td>\n",
       "      <td>SQLite</td>\n",
       "      <td>SQLite</td>\n",
       "      <td>Windows</td>\n",
       "      <td>Windows</td>\n",
       "      <td>NaN</td>\n",
       "      <td>NaN</td>\n",
       "      <td>Vim</td>\n",
       "      <td>NaN</td>\n",
       "      <td>NaN</td>\n",
       "      <td>NaN</td>\n",
       "      <td>NaN</td>\n",
       "    </tr>\n",
       "    <tr>\n",
       "      <td>3</td>\n",
       "      <td>4.0</td>\n",
       "      <td>C#</td>\n",
       "      <td>JavaScript</td>\n",
       "      <td>NaN</td>\n",
       "      <td>NaN</td>\n",
       "      <td>NaN</td>\n",
       "      <td>NaN</td>\n",
       "      <td>NaN</td>\n",
       "      <td>NaN</td>\n",
       "      <td>Visual Studio</td>\n",
       "      <td>NaN</td>\n",
       "      <td>NaN</td>\n",
       "      <td>NaN</td>\n",
       "      <td>NaN</td>\n",
       "    </tr>\n",
       "    <tr>\n",
       "      <td>4</td>\n",
       "      <td>4.0</td>\n",
       "      <td>Python</td>\n",
       "      <td>SQL</td>\n",
       "      <td>NaN</td>\n",
       "      <td>NaN</td>\n",
       "      <td>NaN</td>\n",
       "      <td>NaN</td>\n",
       "      <td>NaN</td>\n",
       "      <td>NaN</td>\n",
       "      <td>Visual Studio Code</td>\n",
       "      <td>NaN</td>\n",
       "      <td>NaN</td>\n",
       "      <td>NaN</td>\n",
       "      <td>NaN</td>\n",
       "    </tr>\n",
       "  </tbody>\n",
       "</table>\n",
       "</div>"
      ],
      "text/plain": [
       "   Respondent LanguageWorkedWith LanguageDesireNextYear DatabaseWorkedWith  \\\n",
       "0         NaN                NaN                    NaN                NaN   \n",
       "1         4.0                  C                      C              MySQL   \n",
       "2         4.0                C++                     C#             SQLite   \n",
       "3         4.0                 C#             JavaScript                NaN   \n",
       "4         4.0             Python                    SQL                NaN   \n",
       "\n",
       "  DatabaseDesireNextYear PlatformWorkedWith PlatformDesireNextYear  \\\n",
       "0                    NaN                NaN                    NaN   \n",
       "1                  MySQL              Linux                  Linux   \n",
       "2                 SQLite            Windows                Windows   \n",
       "3                    NaN                NaN                    NaN   \n",
       "4                    NaN                NaN                    NaN   \n",
       "\n",
       "  WebFrameWorkedWith WebFrameDesireNextYear          DevEnviron  OpSys  \\\n",
       "0                NaN                    NaN                 NaN    NaN   \n",
       "1                NaN                    NaN             Eclipse    NaN   \n",
       "2                NaN                    NaN                 Vim    NaN   \n",
       "3                NaN                    NaN       Visual Studio    NaN   \n",
       "4                NaN                    NaN  Visual Studio Code    NaN   \n",
       "\n",
       "   Containers  BlockchainOrg  BlockchainIs  \n",
       "0         NaN            NaN           NaN  \n",
       "1         NaN            NaN           NaN  \n",
       "2         NaN            NaN           NaN  \n",
       "3         NaN            NaN           NaN  \n",
       "4         NaN            NaN           NaN  "
      ]
     },
     "execution_count": 4,
     "metadata": {},
     "output_type": "execute_result"
    }
   ],
   "source": [
    "df.head()"
   ]
  },
  {
   "cell_type": "code",
   "execution_count": 5,
   "metadata": {},
   "outputs": [
    {
     "data": {
      "text/plain": [
       "Index(['Respondent', 'LanguageWorkedWith', 'LanguageDesireNextYear',\n",
       "       'DatabaseWorkedWith', 'DatabaseDesireNextYear', 'PlatformWorkedWith',\n",
       "       'PlatformDesireNextYear', 'WebFrameWorkedWith',\n",
       "       'WebFrameDesireNextYear', 'DevEnviron', 'OpSys', 'Containers',\n",
       "       'BlockchainOrg', 'BlockchainIs'],\n",
       "      dtype='object')"
      ]
     },
     "execution_count": 5,
     "metadata": {},
     "output_type": "execute_result"
    }
   ],
   "source": [
    "col=df.columns\n",
    "col"
   ]
  },
  {
   "cell_type": "markdown",
   "metadata": {},
   "source": [
    "# Check for Missing values by using `isnull()`"
   ]
  },
  {
   "cell_type": "code",
   "execution_count": 6,
   "metadata": {},
   "outputs": [
    {
     "data": {
      "text/plain": [
       "(74590, 14)"
      ]
     },
     "execution_count": 6,
     "metadata": {},
     "output_type": "execute_result"
    }
   ],
   "source": [
    "df.shape"
   ]
  },
  {
   "cell_type": "code",
   "execution_count": 7,
   "metadata": {},
   "outputs": [
    {
     "data": {
      "text/plain": [
       "Respondent                    1\n",
       "LanguageWorkedWith        14798\n",
       "LanguageDesireNextYear    18826\n",
       "DatabaseWorkedWith        43215\n",
       "DatabaseDesireNextYear    45015\n",
       "PlatformWorkedWith        35382\n",
       "PlatformDesireNextYear    30276\n",
       "WebFrameWorkedWith        49787\n",
       "WebFrameDesireNextYear    50023\n",
       "DevEnviron                41284\n",
       "OpSys                     74590\n",
       "Containers                74590\n",
       "BlockchainOrg             74590\n",
       "BlockchainIs              74590\n",
       "dtype: int64"
      ]
     },
     "execution_count": 7,
     "metadata": {},
     "output_type": "execute_result"
    }
   ],
   "source": [
    "df.isnull().sum()"
   ]
  },
  {
   "cell_type": "markdown",
   "metadata": {},
   "source": [
    "# Copy required columns of dataset "
   ]
  },
  {
   "cell_type": "code",
   "execution_count": 8,
   "metadata": {},
   "outputs": [],
   "source": [
    "data=df[['Respondent', 'LanguageWorkedWith', 'LanguageDesireNextYear',\n",
    "       'DatabaseWorkedWith', 'DatabaseDesireNextYear', 'PlatformWorkedWith',\n",
    "       'PlatformDesireNextYear', 'WebFrameWorkedWith',\n",
    "       'WebFrameDesireNextYear', 'DevEnviron']].copy()"
   ]
  },
  {
   "cell_type": "code",
   "execution_count": 9,
   "metadata": {},
   "outputs": [
    {
     "data": {
      "text/plain": [
       "(74590, 10)"
      ]
     },
     "execution_count": 9,
     "metadata": {},
     "output_type": "execute_result"
    }
   ],
   "source": [
    "data.shape"
   ]
  },
  {
   "cell_type": "markdown",
   "metadata": {},
   "source": [
    "# Dataset has around 40% missing values \n",
    "So, Drop the missing columns"
   ]
  },
  {
   "cell_type": "code",
   "execution_count": 10,
   "metadata": {},
   "outputs": [],
   "source": [
    "data.dropna(inplace=True)"
   ]
  },
  {
   "cell_type": "code",
   "execution_count": null,
   "metadata": {},
   "outputs": [],
   "source": []
  },
  {
   "cell_type": "markdown",
   "metadata": {},
   "source": [
    "# `Data Exploration` on cleaned data"
   ]
  },
  {
   "cell_type": "code",
   "execution_count": 11,
   "metadata": {},
   "outputs": [
    {
     "data": {
      "text/html": [
       "<div>\n",
       "<style scoped>\n",
       "    .dataframe tbody tr th:only-of-type {\n",
       "        vertical-align: middle;\n",
       "    }\n",
       "\n",
       "    .dataframe tbody tr th {\n",
       "        vertical-align: top;\n",
       "    }\n",
       "\n",
       "    .dataframe thead th {\n",
       "        text-align: right;\n",
       "    }\n",
       "</style>\n",
       "<table border=\"1\" class=\"dataframe\">\n",
       "  <thead>\n",
       "    <tr style=\"text-align: right;\">\n",
       "      <th></th>\n",
       "      <th>Respondent</th>\n",
       "      <th>LanguageWorkedWith</th>\n",
       "      <th>LanguageDesireNextYear</th>\n",
       "      <th>DatabaseWorkedWith</th>\n",
       "      <th>DatabaseDesireNextYear</th>\n",
       "      <th>PlatformWorkedWith</th>\n",
       "      <th>PlatformDesireNextYear</th>\n",
       "      <th>WebFrameWorkedWith</th>\n",
       "      <th>WebFrameDesireNextYear</th>\n",
       "      <th>DevEnviron</th>\n",
       "    </tr>\n",
       "  </thead>\n",
       "  <tbody>\n",
       "    <tr>\n",
       "      <td>6</td>\n",
       "      <td>9.0</td>\n",
       "      <td>Bash/Shell/PowerShell</td>\n",
       "      <td>Bash/Shell/PowerShell</td>\n",
       "      <td>DynamoDB</td>\n",
       "      <td>PostgreSQL</td>\n",
       "      <td>AWS</td>\n",
       "      <td>AWS</td>\n",
       "      <td>Express</td>\n",
       "      <td>Express</td>\n",
       "      <td>Vim</td>\n",
       "    </tr>\n",
       "    <tr>\n",
       "      <td>17</td>\n",
       "      <td>13.0</td>\n",
       "      <td>Bash/Shell/PowerShell</td>\n",
       "      <td>Bash/Shell/PowerShell</td>\n",
       "      <td>Couchbase</td>\n",
       "      <td>Firebase</td>\n",
       "      <td>Android</td>\n",
       "      <td>Android</td>\n",
       "      <td>Angular/Angular.js</td>\n",
       "      <td>Express</td>\n",
       "      <td>Vim</td>\n",
       "    </tr>\n",
       "    <tr>\n",
       "      <td>18</td>\n",
       "      <td>13.0</td>\n",
       "      <td>HTML/CSS</td>\n",
       "      <td>HTML/CSS</td>\n",
       "      <td>DynamoDB</td>\n",
       "      <td>MySQL</td>\n",
       "      <td>AWS</td>\n",
       "      <td>AWS</td>\n",
       "      <td>ASP.NET</td>\n",
       "      <td>Vue.js</td>\n",
       "      <td>Visual Studio</td>\n",
       "    </tr>\n",
       "    <tr>\n",
       "      <td>34</td>\n",
       "      <td>17.0</td>\n",
       "      <td>Bash/Shell/PowerShell</td>\n",
       "      <td>Bash/Shell/PowerShell</td>\n",
       "      <td>MongoDB</td>\n",
       "      <td>Elasticsearch</td>\n",
       "      <td>Arduino</td>\n",
       "      <td>Docker</td>\n",
       "      <td>Angular/Angular.js</td>\n",
       "      <td>Angular/Angular.js</td>\n",
       "      <td>IntelliJ</td>\n",
       "    </tr>\n",
       "    <tr>\n",
       "      <td>40</td>\n",
       "      <td>19.0</td>\n",
       "      <td>C#</td>\n",
       "      <td>HTML/CSS</td>\n",
       "      <td>DynamoDB</td>\n",
       "      <td>DynamoDB</td>\n",
       "      <td>Android</td>\n",
       "      <td>AWS</td>\n",
       "      <td>Angular/Angular.js</td>\n",
       "      <td>Express</td>\n",
       "      <td>Vim</td>\n",
       "    </tr>\n",
       "  </tbody>\n",
       "</table>\n",
       "</div>"
      ],
      "text/plain": [
       "    Respondent     LanguageWorkedWith LanguageDesireNextYear  \\\n",
       "6          9.0  Bash/Shell/PowerShell  Bash/Shell/PowerShell   \n",
       "17        13.0  Bash/Shell/PowerShell  Bash/Shell/PowerShell   \n",
       "18        13.0               HTML/CSS               HTML/CSS   \n",
       "34        17.0  Bash/Shell/PowerShell  Bash/Shell/PowerShell   \n",
       "40        19.0                     C#               HTML/CSS   \n",
       "\n",
       "   DatabaseWorkedWith DatabaseDesireNextYear PlatformWorkedWith  \\\n",
       "6            DynamoDB             PostgreSQL                AWS   \n",
       "17          Couchbase               Firebase            Android   \n",
       "18           DynamoDB                  MySQL                AWS   \n",
       "34            MongoDB          Elasticsearch            Arduino   \n",
       "40           DynamoDB               DynamoDB            Android   \n",
       "\n",
       "   PlatformDesireNextYear  WebFrameWorkedWith WebFrameDesireNextYear  \\\n",
       "6                     AWS             Express                Express   \n",
       "17                Android  Angular/Angular.js                Express   \n",
       "18                    AWS             ASP.NET                 Vue.js   \n",
       "34                 Docker  Angular/Angular.js     Angular/Angular.js   \n",
       "40                    AWS  Angular/Angular.js                Express   \n",
       "\n",
       "       DevEnviron  \n",
       "6             Vim  \n",
       "17            Vim  \n",
       "18  Visual Studio  \n",
       "34       IntelliJ  \n",
       "40            Vim  "
      ]
     },
     "execution_count": 11,
     "metadata": {},
     "output_type": "execute_result"
    }
   ],
   "source": [
    "data.head()"
   ]
  },
  {
   "cell_type": "code",
   "execution_count": 12,
   "metadata": {},
   "outputs": [
    {
     "data": {
      "text/html": [
       "<div>\n",
       "<style scoped>\n",
       "    .dataframe tbody tr th:only-of-type {\n",
       "        vertical-align: middle;\n",
       "    }\n",
       "\n",
       "    .dataframe tbody tr th {\n",
       "        vertical-align: top;\n",
       "    }\n",
       "\n",
       "    .dataframe thead th {\n",
       "        text-align: right;\n",
       "    }\n",
       "</style>\n",
       "<table border=\"1\" class=\"dataframe\">\n",
       "  <thead>\n",
       "    <tr style=\"text-align: right;\">\n",
       "      <th></th>\n",
       "      <th>Respondent</th>\n",
       "    </tr>\n",
       "  </thead>\n",
       "  <tbody>\n",
       "    <tr>\n",
       "      <td>count</td>\n",
       "      <td>11984.000000</td>\n",
       "    </tr>\n",
       "    <tr>\n",
       "      <td>mean</td>\n",
       "      <td>12448.034630</td>\n",
       "    </tr>\n",
       "    <tr>\n",
       "      <td>std</td>\n",
       "      <td>7205.248295</td>\n",
       "    </tr>\n",
       "    <tr>\n",
       "      <td>min</td>\n",
       "      <td>9.000000</td>\n",
       "    </tr>\n",
       "    <tr>\n",
       "      <td>25%</td>\n",
       "      <td>6251.000000</td>\n",
       "    </tr>\n",
       "    <tr>\n",
       "      <td>50%</td>\n",
       "      <td>12371.500000</td>\n",
       "    </tr>\n",
       "    <tr>\n",
       "      <td>75%</td>\n",
       "      <td>18748.500000</td>\n",
       "    </tr>\n",
       "    <tr>\n",
       "      <td>max</td>\n",
       "      <td>25141.000000</td>\n",
       "    </tr>\n",
       "  </tbody>\n",
       "</table>\n",
       "</div>"
      ],
      "text/plain": [
       "         Respondent\n",
       "count  11984.000000\n",
       "mean   12448.034630\n",
       "std     7205.248295\n",
       "min        9.000000\n",
       "25%     6251.000000\n",
       "50%    12371.500000\n",
       "75%    18748.500000\n",
       "max    25141.000000"
      ]
     },
     "execution_count": 12,
     "metadata": {},
     "output_type": "execute_result"
    }
   ],
   "source": [
    "data.describe()"
   ]
  },
  {
   "cell_type": "code",
   "execution_count": 13,
   "metadata": {},
   "outputs": [
    {
     "data": {
      "text/html": [
       "<div>\n",
       "<style scoped>\n",
       "    .dataframe tbody tr th:only-of-type {\n",
       "        vertical-align: middle;\n",
       "    }\n",
       "\n",
       "    .dataframe tbody tr th {\n",
       "        vertical-align: top;\n",
       "    }\n",
       "\n",
       "    .dataframe thead th {\n",
       "        text-align: right;\n",
       "    }\n",
       "</style>\n",
       "<table border=\"1\" class=\"dataframe\">\n",
       "  <thead>\n",
       "    <tr style=\"text-align: right;\">\n",
       "      <th></th>\n",
       "      <th>Respondent</th>\n",
       "      <th>LanguageWorkedWith</th>\n",
       "      <th>LanguageDesireNextYear</th>\n",
       "      <th>DatabaseWorkedWith</th>\n",
       "      <th>DatabaseDesireNextYear</th>\n",
       "      <th>PlatformWorkedWith</th>\n",
       "      <th>PlatformDesireNextYear</th>\n",
       "      <th>WebFrameWorkedWith</th>\n",
       "      <th>WebFrameDesireNextYear</th>\n",
       "      <th>DevEnviron</th>\n",
       "    </tr>\n",
       "  </thead>\n",
       "  <tbody>\n",
       "    <tr>\n",
       "      <td>count</td>\n",
       "      <td>11984.000000</td>\n",
       "      <td>11984</td>\n",
       "      <td>11984</td>\n",
       "      <td>11984</td>\n",
       "      <td>11984</td>\n",
       "      <td>11984</td>\n",
       "      <td>11984</td>\n",
       "      <td>11984</td>\n",
       "      <td>11984</td>\n",
       "      <td>11984</td>\n",
       "    </tr>\n",
       "    <tr>\n",
       "      <td>unique</td>\n",
       "      <td>NaN</td>\n",
       "      <td>26</td>\n",
       "      <td>28</td>\n",
       "      <td>14</td>\n",
       "      <td>14</td>\n",
       "      <td>17</td>\n",
       "      <td>17</td>\n",
       "      <td>13</td>\n",
       "      <td>13</td>\n",
       "      <td>21</td>\n",
       "    </tr>\n",
       "    <tr>\n",
       "      <td>top</td>\n",
       "      <td>NaN</td>\n",
       "      <td>Bash/Shell/PowerShell</td>\n",
       "      <td>Bash/Shell/PowerShell</td>\n",
       "      <td>Microsoft SQL Server</td>\n",
       "      <td>Elasticsearch</td>\n",
       "      <td>AWS</td>\n",
       "      <td>AWS</td>\n",
       "      <td>Angular/Angular.js</td>\n",
       "      <td>Angular/Angular.js</td>\n",
       "      <td>IntelliJ</td>\n",
       "    </tr>\n",
       "    <tr>\n",
       "      <td>freq</td>\n",
       "      <td>NaN</td>\n",
       "      <td>3200</td>\n",
       "      <td>2255</td>\n",
       "      <td>2304</td>\n",
       "      <td>1924</td>\n",
       "      <td>2449</td>\n",
       "      <td>2873</td>\n",
       "      <td>2724</td>\n",
       "      <td>2560</td>\n",
       "      <td>1677</td>\n",
       "    </tr>\n",
       "    <tr>\n",
       "      <td>mean</td>\n",
       "      <td>12448.034630</td>\n",
       "      <td>NaN</td>\n",
       "      <td>NaN</td>\n",
       "      <td>NaN</td>\n",
       "      <td>NaN</td>\n",
       "      <td>NaN</td>\n",
       "      <td>NaN</td>\n",
       "      <td>NaN</td>\n",
       "      <td>NaN</td>\n",
       "      <td>NaN</td>\n",
       "    </tr>\n",
       "    <tr>\n",
       "      <td>std</td>\n",
       "      <td>7205.248295</td>\n",
       "      <td>NaN</td>\n",
       "      <td>NaN</td>\n",
       "      <td>NaN</td>\n",
       "      <td>NaN</td>\n",
       "      <td>NaN</td>\n",
       "      <td>NaN</td>\n",
       "      <td>NaN</td>\n",
       "      <td>NaN</td>\n",
       "      <td>NaN</td>\n",
       "    </tr>\n",
       "    <tr>\n",
       "      <td>min</td>\n",
       "      <td>9.000000</td>\n",
       "      <td>NaN</td>\n",
       "      <td>NaN</td>\n",
       "      <td>NaN</td>\n",
       "      <td>NaN</td>\n",
       "      <td>NaN</td>\n",
       "      <td>NaN</td>\n",
       "      <td>NaN</td>\n",
       "      <td>NaN</td>\n",
       "      <td>NaN</td>\n",
       "    </tr>\n",
       "    <tr>\n",
       "      <td>25%</td>\n",
       "      <td>6251.000000</td>\n",
       "      <td>NaN</td>\n",
       "      <td>NaN</td>\n",
       "      <td>NaN</td>\n",
       "      <td>NaN</td>\n",
       "      <td>NaN</td>\n",
       "      <td>NaN</td>\n",
       "      <td>NaN</td>\n",
       "      <td>NaN</td>\n",
       "      <td>NaN</td>\n",
       "    </tr>\n",
       "    <tr>\n",
       "      <td>50%</td>\n",
       "      <td>12371.500000</td>\n",
       "      <td>NaN</td>\n",
       "      <td>NaN</td>\n",
       "      <td>NaN</td>\n",
       "      <td>NaN</td>\n",
       "      <td>NaN</td>\n",
       "      <td>NaN</td>\n",
       "      <td>NaN</td>\n",
       "      <td>NaN</td>\n",
       "      <td>NaN</td>\n",
       "    </tr>\n",
       "    <tr>\n",
       "      <td>75%</td>\n",
       "      <td>18748.500000</td>\n",
       "      <td>NaN</td>\n",
       "      <td>NaN</td>\n",
       "      <td>NaN</td>\n",
       "      <td>NaN</td>\n",
       "      <td>NaN</td>\n",
       "      <td>NaN</td>\n",
       "      <td>NaN</td>\n",
       "      <td>NaN</td>\n",
       "      <td>NaN</td>\n",
       "    </tr>\n",
       "    <tr>\n",
       "      <td>max</td>\n",
       "      <td>25141.000000</td>\n",
       "      <td>NaN</td>\n",
       "      <td>NaN</td>\n",
       "      <td>NaN</td>\n",
       "      <td>NaN</td>\n",
       "      <td>NaN</td>\n",
       "      <td>NaN</td>\n",
       "      <td>NaN</td>\n",
       "      <td>NaN</td>\n",
       "      <td>NaN</td>\n",
       "    </tr>\n",
       "  </tbody>\n",
       "</table>\n",
       "</div>"
      ],
      "text/plain": [
       "          Respondent     LanguageWorkedWith LanguageDesireNextYear  \\\n",
       "count   11984.000000                  11984                  11984   \n",
       "unique           NaN                     26                     28   \n",
       "top              NaN  Bash/Shell/PowerShell  Bash/Shell/PowerShell   \n",
       "freq             NaN                   3200                   2255   \n",
       "mean    12448.034630                    NaN                    NaN   \n",
       "std      7205.248295                    NaN                    NaN   \n",
       "min         9.000000                    NaN                    NaN   \n",
       "25%      6251.000000                    NaN                    NaN   \n",
       "50%     12371.500000                    NaN                    NaN   \n",
       "75%     18748.500000                    NaN                    NaN   \n",
       "max     25141.000000                    NaN                    NaN   \n",
       "\n",
       "          DatabaseWorkedWith DatabaseDesireNextYear PlatformWorkedWith  \\\n",
       "count                  11984                  11984              11984   \n",
       "unique                    14                     14                 17   \n",
       "top     Microsoft SQL Server          Elasticsearch                AWS   \n",
       "freq                    2304                   1924               2449   \n",
       "mean                     NaN                    NaN                NaN   \n",
       "std                      NaN                    NaN                NaN   \n",
       "min                      NaN                    NaN                NaN   \n",
       "25%                      NaN                    NaN                NaN   \n",
       "50%                      NaN                    NaN                NaN   \n",
       "75%                      NaN                    NaN                NaN   \n",
       "max                      NaN                    NaN                NaN   \n",
       "\n",
       "       PlatformDesireNextYear  WebFrameWorkedWith WebFrameDesireNextYear  \\\n",
       "count                   11984               11984                  11984   \n",
       "unique                     17                  13                     13   \n",
       "top                       AWS  Angular/Angular.js     Angular/Angular.js   \n",
       "freq                     2873                2724                   2560   \n",
       "mean                      NaN                 NaN                    NaN   \n",
       "std                       NaN                 NaN                    NaN   \n",
       "min                       NaN                 NaN                    NaN   \n",
       "25%                       NaN                 NaN                    NaN   \n",
       "50%                       NaN                 NaN                    NaN   \n",
       "75%                       NaN                 NaN                    NaN   \n",
       "max                       NaN                 NaN                    NaN   \n",
       "\n",
       "       DevEnviron  \n",
       "count       11984  \n",
       "unique         21  \n",
       "top      IntelliJ  \n",
       "freq         1677  \n",
       "mean          NaN  \n",
       "std           NaN  \n",
       "min           NaN  \n",
       "25%           NaN  \n",
       "50%           NaN  \n",
       "75%           NaN  \n",
       "max           NaN  "
      ]
     },
     "execution_count": 13,
     "metadata": {},
     "output_type": "execute_result"
    }
   ],
   "source": [
    "data.describe(include=\"all\")"
   ]
  },
  {
   "cell_type": "code",
   "execution_count": 14,
   "metadata": {},
   "outputs": [
    {
     "name": "stdout",
     "output_type": "stream",
     "text": [
      "<class 'pandas.core.frame.DataFrame'>\n",
      "Int64Index: 11984 entries, 6 to 74573\n",
      "Data columns (total 10 columns):\n",
      "Respondent                11984 non-null float64\n",
      "LanguageWorkedWith        11984 non-null object\n",
      "LanguageDesireNextYear    11984 non-null object\n",
      "DatabaseWorkedWith        11984 non-null object\n",
      "DatabaseDesireNextYear    11984 non-null object\n",
      "PlatformWorkedWith        11984 non-null object\n",
      "PlatformDesireNextYear    11984 non-null object\n",
      "WebFrameWorkedWith        11984 non-null object\n",
      "WebFrameDesireNextYear    11984 non-null object\n",
      "DevEnviron                11984 non-null object\n",
      "dtypes: float64(1), object(9)\n",
      "memory usage: 1.0+ MB\n"
     ]
    }
   ],
   "source": [
    "data.info()"
   ]
  },
  {
   "cell_type": "code",
   "execution_count": 15,
   "metadata": {},
   "outputs": [
    {
     "data": {
      "text/plain": [
       "(11984, 10)"
      ]
     },
     "execution_count": 15,
     "metadata": {},
     "output_type": "execute_result"
    }
   ],
   "source": [
    "data.shape"
   ]
  },
  {
   "cell_type": "markdown",
   "metadata": {},
   "source": [
    "# Save Dataset"
   ]
  },
  {
   "cell_type": "code",
   "execution_count": 16,
   "metadata": {},
   "outputs": [],
   "source": [
    "data.to_csv(\"lang_database.csv\")"
   ]
  },
  {
   "cell_type": "code",
   "execution_count": null,
   "metadata": {},
   "outputs": [],
   "source": []
  }
 ],
 "metadata": {
  "kernelspec": {
   "display_name": "Python 3",
   "language": "python",
   "name": "python3"
  },
  "language_info": {
   "codemirror_mode": {
    "name": "ipython",
    "version": 3
   },
   "file_extension": ".py",
   "mimetype": "text/x-python",
   "name": "python",
   "nbconvert_exporter": "python",
   "pygments_lexer": "ipython3",
   "version": "3.7.4"
  }
 },
 "nbformat": 4,
 "nbformat_minor": 2
}
